{
 "cells": [
  {
   "cell_type": "code",
   "execution_count": 3,
   "metadata": {},
   "outputs": [
    {
     "name": "stdout",
     "output_type": "stream",
     "text": [
      "res: 1000\n",
      "res: 1024000\n",
      "res: 128000\n",
      "res: 16000\n",
      "res: 16384000\n",
      "res: 2000\n",
      "res: 2048000\n",
      "res: 256000\n",
      "res: 32000\n",
      "res: 4000\n",
      "res: 4096000\n",
      "res: 512000\n",
      "res: 64000\n",
      "res: 8000\n",
      "res: 8192000\n"
     ]
    }
   ],
   "source": [
    "import h5py\n",
    "\n",
    "filename = '../media/uploads/my_file_genome_wide.multires'\n",
    "f = h5py.File(filename, 'r+')\n",
    "#f.move('resolutions/1000', 'resolutions/1')\n",
    "\n",
    "for res in f['resolutions']:\n",
    "    print(\"res:\", int(res))\n",
    "    #f.move('resolutions/{}'.format(res), 'resolutions/{}'.format(int(res) * 1000))\n",
    "f.close()"
   ]
  },
  {
   "cell_type": "markdown",
   "metadata": {
    "collapsed": true
   },
   "source": [
    "python manage.py ingest_tileset --filetype multivec --datatype multivec --no-upload --filename uploads/my_file_genome_wide.multires"
   ]
  },
  {
   "cell_type": "code",
   "execution_count": null,
   "metadata": {
    "collapsed": true
   },
   "outputs": [],
   "source": []
  }
 ],
 "metadata": {
  "kernelspec": {
   "display_name": "Python 3",
   "language": "python",
   "name": "python3"
  },
  "language_info": {
   "codemirror_mode": {
    "name": "ipython",
    "version": 3
   },
   "file_extension": ".py",
   "mimetype": "text/x-python",
   "name": "python",
   "nbconvert_exporter": "python",
   "pygments_lexer": "ipython3",
   "version": "3.6.2"
  }
 },
 "nbformat": 4,
 "nbformat_minor": 2
}
